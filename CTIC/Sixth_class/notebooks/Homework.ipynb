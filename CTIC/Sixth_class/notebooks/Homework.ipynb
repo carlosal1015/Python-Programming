{
 "cells": [
  {
   "cell_type": "markdown",
   "metadata": {},
   "source": [
    "# Tarea 6"
   ]
  },
  {
   "cell_type": "markdown",
   "metadata": {},
   "source": [
    "La clase Fraccion."
   ]
  },
  {
   "cell_type": "code",
   "execution_count": null,
   "metadata": {},
   "outputs": [],
   "source": [
    "from math import gcd\n",
    "\n",
    "class Fraccion(object):\n",
    "\t\"\"\"Resumen de la clase Fraccion:\n",
    "\t>>> my_fraction = Fraccion(1, 2)\n",
    "\t\"\"\"\n",
    "\tdef __init__(self, numerator, denominator):\n",
    "\t\tself._num = numerator\n",
    "\t\tself._den = denominator\n",
    "\n",
    "\n",
    "\tdef __add__(self, other):\n",
    "\t\tassert type(other) == Fraccion\n",
    "\t\tsummation_num = self._num*other._den + self._den*other._num\n",
    "\t\tsummation_den = self._den*other._den\n",
    "\t\tcommon_divisor = gcd(abs(summation_num), abs(summation_den))\n",
    "\t\tsummation_num //= common_divisor\n",
    "\t\tsummation_den //= common_divisor\n",
    "\t\treturn Fraccion(summation_num, summation_den)\n",
    "\n",
    "\n",
    "\tdef __mul__(self, other):\n",
    "\t\tassert type(other) == Fraccion\n",
    "\t\tproduct_num = self._num*other._num\n",
    "\t\tproduct_den = self._den*other._den\n",
    "\t\tcommon_divisor = gcd(abs(product_num), abs(product_den))\n",
    "\t\tproduct_num //= common_divisor\n",
    "\t\tproduct_den //= common_divisor\n",
    "\t\treturn Fraccion(product_num, product_den)\n",
    "\n",
    "\n",
    "\tdef __eq__(self, other):\n",
    "\t\tif type(q) != Fraccion:\n",
    "\t\t\treturn False\n",
    "\t\tfirstNumber = self._num*other._den\n",
    "\t\tsecondNumber = self._den*other._num\n",
    "\t\treturn firstNumber == secondNumber\n",
    "\n",
    "\n",
    "\tdef __lt__(self, other):\n",
    "\t\tfirstNumber = self._num*other._den\n",
    "\t\tsecondNumber = self._den*other._num\n",
    "\t\treturn firstNumber < secondNumber\n",
    "\n",
    "\n",
    "\tdef sumar(self, other):\n",
    "\t\treturn Fraccion(self._num, self._den).__add__(Fraccion(other._num, other._den))\n",
    "\n",
    "\tdef multiplicar(self, other):\n",
    "\t\treturn Fraccion(self._num, self._den).__mul__(Fraccion(other._num, other._den))\n",
    "\n",
    "\tdef __str__(self):\n",
    "\t\tif self._num*self._den >= 0:\n",
    "\t\t\treturn f\"$\\\\frac{{{abs(self._num)}}}{{{abs(self._den)}}}$\"\n",
    "\t\telse:\n",
    "\t\t\treturn f\"$-\\\\frac{{{abs(self._num)}}}{{{abs(self._den)}}}$\""
   ]
  },
  {
   "cell_type": "code",
   "execution_count": null,
   "metadata": {},
   "outputs": [],
   "source": [
    "from fraccion import Fraccion as fr\n",
    "\n",
    "un_medio = fr(numerator = -1, denominator = 2)\n",
    "dos_tercios = fr(numerator = 2, denominator = -3)\n",
    "\n",
    "# Tres sumas equivalentes\n",
    "print(f\"{dos_tercios} + {un_medio} = {un_medio} + {dos_tercios} = {un_medio + dos_tercios} = {un_medio.sumar(dos_tercios)} = {dos_tercios.sumar(un_medio)}.\")\n",
    "# Tres multiplicaciones equivalentes\n",
    "print(f\"{dos_tercios} * {un_medio} = {un_medio} * {dos_tercios} = {un_medio*dos_tercios} = {un_medio.multiplicar(dos_tercios)} = {dos_tercios.multiplicar(un_medio)}.\")"
   ]
  },
  {
   "cell_type": "code",
   "execution_count": null,
   "metadata": {},
   "outputs": [],
   "source": [
    "def main():\n",
    "\temployees = {\n",
    "\t\t1000:{'Nombre': \"Juan\", 'Fecha': '10-10-17', 'Department': 103},\n",
    "\t\t1001:{'Nombre': \"Mary\", 'Fecha': '01-11-88', 'Department': 101},\n",
    "\t\t1002:{'Nombre': \"Roberto\", 'Fecha': '11-02-19', 'Department': 105},\n",
    "\t\t1003:{'Nombre': \"Lizbeth\", 'Fecha': '22-06-11', 'Department': 104},\n",
    "\t}\n",
    "\tprint(f\"Diccionario de empleados ordenado descendentemente con respecto a sus nombres.\")\n",
    "\tprint(sorted(employees.items(), key = lambda x: x[1]['Nombre'], reverse = True))\n",
    "\n",
    "\n",
    "if __name__ == \"__main__\":\n",
    "\tmain()"
   ]
  },
  {
   "cell_type": "code",
   "execution_count": null,
   "metadata": {},
   "outputs": [],
   "source": [
    "class Empleado(object):\n",
    "\t\"\"\"\n",
    "\t>>> peruvian_employee = Empleado()\n",
    "\t>>> japanese_employee = Empleado()\n",
    "\t\"\"\"\n",
    "\tcounter = 0\n",
    "\tdef __init__(self):\n",
    "\t\tself.id_number = input(f\"Ingrese el id: \")\n",
    "\t\tself.name = input(f\"Ingrese el nombre: \")\n",
    "\t\tself.genre = input(f\"Ingrese el género: \")\n",
    "\t\tself.city = input(f\"Ingrese la ciudad: \")\n",
    "\t\tself.salary = eval(input(f\"Ingrese el salario: \"))\n",
    "\t\tEmpleado.counter += 1\n",
    "\n",
    "\n",
    "\tdef show(self):\n",
    "\t\treturn (f\"El código es {self.id_number}.\\n\"\n",
    "\t\tf\"Su nombre es {self.name}.\\n\"\n",
    "\t\tf\"Su género es {self.genre}.\\n\"\n",
    "\t\tf\"La ciudad es {self.city}.\\n\"\n",
    "\t\tf\"El salario es S/{self.salary}.\"\n",
    "\t\t)\n",
    "\n",
    "\n",
    "\tdef update(self):\n",
    "\t\tself.id_number = input(f\"Modificar el id: \")\n",
    "\t\tself.name = input(f\"Modificar el nombre: \")\n",
    "\t\tself.genre = input(f\"Modificar el género: \")\n",
    "\t\tself.city = input(f\"Modificar la ciudad: \")\n",
    "\t\tself.salary = eval(input(f\"Modificar el salario: \"))\n",
    "\n",
    "\n",
    "peruvian_employee = Empleado()\n",
    "#('PER23', 'Raúl', 'M', 'Trujillo', 2000)\n",
    "print(Empleado.counter)\n",
    "print(peruvian_employee.show())\n",
    "print(peruvian_employee.update())\n",
    "print(peruvian_employee.show())\n",
    "#japanese_employee = Empleado()\n",
    "# #('JAP14', 'Momo', 'F', 'Osaka', 3200)"
   ]
  }
 ],
 "metadata": {
  "kernelspec": {
   "display_name": "Python 3",
   "language": "python",
   "name": "python3"
  },
  "language_info": {
   "codemirror_mode": {
    "name": "ipython",
    "version": 3
   },
   "file_extension": ".py",
   "mimetype": "text/x-python",
   "name": "python",
   "nbconvert_exporter": "python",
   "pygments_lexer": "ipython3",
   "version": "3.7.4"
  }
 },
 "nbformat": 4,
 "nbformat_minor": 4
}
