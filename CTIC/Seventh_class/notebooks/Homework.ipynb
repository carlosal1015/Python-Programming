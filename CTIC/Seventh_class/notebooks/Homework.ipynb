{
 "cells": [
  {
   "cell_type": "markdown",
   "metadata": {},
   "source": [
    "# Tarea 7"
   ]
  },
  {
   "cell_type": "code",
   "execution_count": null,
   "metadata": {},
   "outputs": [],
   "source": [
    "#!/usr/bin/env python\n",
    "# -*- coding: utf-8 -*-\n",
    "from tkinter import Tk, Frame, Label, mainloop, Button, LEFT, StringVar\n",
    "from random import randint as rd\n",
    "\n",
    "class Random_GUI:\n",
    "\tdef __init__(self):\n",
    "\t\tself.main_window = Tk()\n",
    "\t\tself.main_window.title(\"Calculadora aleatoria: suma, máximo y mínimo.\")\n",
    "\t\tself.main_window.geometry(\"500x100\")\n",
    "\n",
    "\t\tself.test1_frame = Frame(self.main_window)\n",
    "\t\tself.test2_frame = Frame(self.main_window)\n",
    "\t\tself.test3_frame = Frame(self.main_window)\n",
    "\n",
    "\t\tself.random_button = Button(self.test1_frame, text = \"Generar número aleatorios entre 0 y 9: \", command = self.random_generator)\n",
    "\t\tself.random_button.pack(side = LEFT)\n",
    "\t\tself.summation_button = Button(self.test2_frame, text = \"Mostrar la suma: \")\n",
    "\t\tself.summation_button.pack(side = LEFT)\n",
    "\t\tself.maximum_minimum = Button(self.test3_frame, text = \"Mostrar el máximo y mínimo: \")\n",
    "\t\tself.maximum_minimum.pack(side = LEFT)\n",
    "\n",
    "\t\tself.random_list = StringVar()\n",
    "\t\tself.test1_label = Label(self.test1_frame, textvariable = self.random_list)\n",
    "\t\tself.test1_label.pack(side = LEFT)\n",
    "\n",
    "\t\tself.print_summation = StringVar()\n",
    "\t\tself.test2_label = Label(self.test2_frame, textvariable = self.print_summation)\n",
    "\t\tself.test2_label.pack(side = LEFT)\n",
    "\n",
    "\t\tself.print_max_min = StringVar()\n",
    "\t\tself.test3_label = Label(self.test3_frame, textvariable = self.print_max_min)\n",
    "\t\tself.test3_label.pack(side = LEFT)\n",
    "\n",
    "\t\tself.test1_frame.pack()\n",
    "\t\tself.test2_frame.pack()\n",
    "\t\tself.test3_frame.pack()\n",
    "\n",
    "\t\tmainloop()\n",
    "\n",
    "\n",
    "\tdef random_generator(self):\n",
    "\t\tself.list_random = [rd(0, 9) for i in range(10)]\n",
    "\t\tself.new_list_random = \" \".join(str(j) for j in self.list_random)\n",
    "\t\tself.random_list.set(self.new_list_random)\n",
    "\n",
    "\t\tself.summation = sum(self.list_random)\n",
    "\t\tself.print_summation.set(self.summation)\n",
    "\n",
    "\t\tself.maximum = max(self.list_random)\n",
    "\t\tself.minimum = min(self.list_random)\n",
    "\t\tself.max_min = \"El máximo es: \" + str(self.maximum) + \" y el mínimo es \" + str(self.minimum)\n",
    "\t\tself.print_max_min.set(self.max_min)\n",
    "\n",
    "\n",
    "test_random_gui = Random_GUI()"
   ]
  }
 ],
 "metadata": {
  "kernelspec": {
   "display_name": "Python 3",
   "language": "python",
   "name": "python3"
  },
  "language_info": {
   "codemirror_mode": {
    "name": "ipython",
    "version": 3
   },
   "file_extension": ".py",
   "mimetype": "text/x-python",
   "name": "python",
   "nbconvert_exporter": "python",
   "pygments_lexer": "ipython3",
   "version": "3.7.4"
  }
 },
 "nbformat": 4,
 "nbformat_minor": 4
}
