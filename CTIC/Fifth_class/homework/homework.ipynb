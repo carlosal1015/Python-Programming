{
 "cells": [
  {
   "cell_type": "markdown",
   "metadata": {},
   "source": [
    "# Tarea 5"
   ]
  },
  {
   "cell_type": "markdown",
   "metadata": {},
   "source": [
    "1. Escriba un programa que elimine, de un archivo de texto, todas las ocurrencias de un string especificado. Vuestro programa\n",
    "debe de solicitar que ingrese el nombre del archivo y el string a ser eliminado."
   ]
  },
  {
   "cell_type": "markdown",
   "metadata": {},
   "source": [
    "a) Use el archivo `alumnos2019.txt`.\n",
    "\n",
    "b) Muestre el contenido inicial del archivo.\n",
    "\n",
    "c) Elimine el string especificado. Verifique físicamente el contenido del archivo.\n",
    "\n",
    "d) Muestre el contenido del archivo actualizado."
   ]
  },
  {
   "cell_type": "code",
   "execution_count": 4,
   "metadata": {},
   "outputs": [
    {
     "name": "stdin",
     "output_type": "stream",
     "text": [
      "Ingrese el nombre del archivo:  v1alumnos2019\n"
     ]
    },
    {
     "name": "stdout",
     "output_type": "stream",
     "text": [
      "Altura\tPeso\tHermanos\tEquipo\tZapato\tSexo\tIMC\n",
      "170\t80\t2\tDEP\t41\tH\t27,6816609\n",
      "173\t59\t2\tNIN\t38\tM\t19,71332153\n",
      "176\t61\t2\tNIN\t40\tM\t19,69266529\n",
      "170\t50\t2\tNIN\t39\tM\t17,30103806\n",
      "165\t49\t2\tDEP\t38\tM\t17,99816345\n",
      "178\t60\t1\tRMA\t42\tH\t18,9370029\n",
      "174\t68\t1\tDEP\t41\tH\t22,46003435\n",
      "173\t60\t3\tDEP\t40\tM\t20,04744562\n",
      "173\t80\t3\tRMA\t43\tH\t26,7299275\n",
      "180\t73\t2\tDEP\t44\tH\t22,5308642\n",
      "177\t95\t4\tRMA\t44\tH\t30,32334259\n",
      "180\t78\t2\tCEL\t45\tH\t24,07407407\n",
      "177\t85\t4\tDEP\t43\tH\t27,13141179\n",
      "174\t87\t6\tCEL\t40\tH\t28,73563218\n",
      "165\t64\t2\tVAL\t40\tH\t23,50780533\n",
      "175\t78\t1\tDEP\t45\tH\t25,46938776\n",
      "170\t58\t3\tNIN\t42\tH\t20,06920415\n",
      "168\t63\t3\tNIN\t39\tM\t22,32142857\n",
      "188\t77\t2\tBAR\t45\tH\t21,78587596\n",
      "184\t80\t3\tBAR\t44\tH\t23,6294896\n",
      "178\t92\t2\tDEP\t42\tH\t29,03673779\n",
      "174\t57\t2\tRMA\t42\tH\t18,8267935\n",
      "182\t60\t2\tRMA\t44\tH\t18,11375438\n",
      "173\t73\t1\tRMA\t43\tH\t24,39105884\n",
      "174\t75\t2\tNIN\t43\tH\t24,77209671\n",
      "170\t63\t3\tNIN\t43\tH\t21,79930796\n",
      "172\t80\t2\tNIN\t42\tH\t27,04164413\n",
      "168\t71\t2\tNIN\t42\tH\t25,15589569\n",
      "174\t86\t2\tNIN\t46\tH\t28,40533756\n",
      "180\t76\t1\tNIN\t45\tH\t23,45679012\n",
      "171\t65\t2\tRMA\t43\tH\t22,22906193\n",
      "158\t61\t2\tCEL\t36\tM\t24,43518667\n",
      "182\t75\t1\tDEP\t44\tH\t22,64219297\n",
      "181\t80\t3\tDEP\t43\tH\t24,41927902\n",
      "173\t100\t2\tNIN\t42\tH\t33,41240937\n",
      "169\t62\t2\tBAR\t42\tH\t21,70792339\n",
      "183\t75\t1\tCEL\t45\tH\t22,39541342\n",
      "176\t67\t3\tNIN\t42\tH\t21,62964876\n",
      "160\t51\t2\tNIN\t37\tM\t19,921875\n",
      "163\t54\t3\tRMA\t38\tM\t20,32443826\n",
      "185\t75\t2\tDEP\t45\tH\t21,9138057\n",
      "165\t62\t2\tDEP\t42\tH\t22,77318641\n",
      "174\t74\t2\tDEP\t44\tH\t24,44180209\n",
      "168\t70\t1   NIN\t39\tM\t24,8015873\n"
     ]
    },
    {
     "name": "stdin",
     "output_type": "stream",
     "text": [
      "Ingrese el string a eliminar:  M\n"
     ]
    },
    {
     "name": "stdout",
     "output_type": "stream",
     "text": [
      "\n",
      "Altura\tPeso\tHermanos\tEquipo\tZapato\tSexo\tIC\n",
      "170\t80\t2\tDEP\t41\tH\t27,6816609\n",
      "173\t59\t2\tNIN\t38\t\t19,71332153\n",
      "176\t61\t2\tNIN\t40\t\t19,69266529\n",
      "170\t50\t2\tNIN\t39\t\t17,30103806\n",
      "165\t49\t2\tDEP\t38\t\t17,99816345\n",
      "178\t60\t1\tRA\t42\tH\t18,9370029\n",
      "174\t68\t1\tDEP\t41\tH\t22,46003435\n",
      "173\t60\t3\tDEP\t40\t\t20,04744562\n",
      "173\t80\t3\tRA\t43\tH\t26,7299275\n",
      "180\t73\t2\tDEP\t44\tH\t22,5308642\n",
      "177\t95\t4\tRA\t44\tH\t30,32334259\n",
      "180\t78\t2\tCEL\t45\tH\t24,07407407\n",
      "177\t85\t4\tDEP\t43\tH\t27,13141179\n",
      "174\t87\t6\tCEL\t40\tH\t28,73563218\n",
      "165\t64\t2\tVAL\t40\tH\t23,50780533\n",
      "175\t78\t1\tDEP\t45\tH\t25,46938776\n",
      "170\t58\t3\tNIN\t42\tH\t20,06920415\n",
      "168\t63\t3\tNIN\t39\t\t22,32142857\n",
      "188\t77\t2\tBAR\t45\tH\t21,78587596\n",
      "184\t80\t3\tBAR\t44\tH\t23,6294896\n",
      "178\t92\t2\tDEP\t42\tH\t29,03673779\n",
      "174\t57\t2\tRA\t42\tH\t18,8267935\n",
      "182\t60\t2\tRA\t44\tH\t18,11375438\n",
      "173\t73\t1\tRA\t43\tH\t24,39105884\n",
      "174\t75\t2\tNIN\t43\tH\t24,77209671\n",
      "170\t63\t3\tNIN\t43\tH\t21,79930796\n",
      "172\t80\t2\tNIN\t42\tH\t27,04164413\n",
      "168\t71\t2\tNIN\t42\tH\t25,15589569\n",
      "174\t86\t2\tNIN\t46\tH\t28,40533756\n",
      "180\t76\t1\tNIN\t45\tH\t23,45679012\n",
      "171\t65\t2\tRA\t43\tH\t22,22906193\n",
      "158\t61\t2\tCEL\t36\t\t24,43518667\n",
      "182\t75\t1\tDEP\t44\tH\t22,64219297\n",
      "181\t80\t3\tDEP\t43\tH\t24,41927902\n",
      "173\t100\t2\tNIN\t42\tH\t33,41240937\n",
      "169\t62\t2\tBAR\t42\tH\t21,70792339\n",
      "183\t75\t1\tCEL\t45\tH\t22,39541342\n",
      "176\t67\t3\tNIN\t42\tH\t21,62964876\n",
      "160\t51\t2\tNIN\t37\t\t19,921875\n",
      "163\t54\t3\tRA\t38\t\t20,32443826\n",
      "185\t75\t2\tDEP\t45\tH\t21,9138057\n",
      "165\t62\t2\tDEP\t42\tH\t22,77318641\n",
      "174\t74\t2\tDEP\t44\tH\t24,44180209\n",
      "168\t70\t1   NIN\t39\t\t24,8015873\n"
     ]
    }
   ],
   "source": [
    "import re\n",
    "\n",
    "def show(fileName):\n",
    "\twith open(fileName + '.txt', \"r+\") as f:\n",
    "\t\treturn f\"{f.read()}\"\n",
    "\n",
    "\n",
    "def delete_string(string, fileName):\n",
    "\twith open(fileName + '.txt', \"r+\") as f:\n",
    "\t\ttext = f.read()\n",
    "\t\tf.seek(0)\n",
    "\t\ttext = re.sub(string, '', text)\n",
    "\t\tf.write(text)\n",
    "\t\tf.truncate()\n",
    "\n",
    "def main():\n",
    "\tfileName = input(\"Ingrese el nombre del archivo: \")\n",
    "\tprint(show(fileName))\n",
    "\tstring = input(f\"Ingrese el string a eliminar: \")\n",
    "\tdelete_string(string, fileName)\n",
    "\tprint()\n",
    "\tprint(show(fileName))\n",
    "\n",
    "\n",
    "if __name__ == \"__main__\":\n",
    "\tmain()"
   ]
  },
  {
   "cell_type": "markdown",
   "metadata": {},
   "source": [
    "2. Escriba un programa que agregue las siguientes líneas al archivo `alumnos2019.txt`:\n",
    "\n",
    "```\n",
    "L74 68  2   UDP 40  H   22,4600343\n",
    "L68 63  1   ALI 37  M   22,3214285\n",
    "```"
   ]
  },
  {
   "cell_type": "code",
   "execution_count": 4,
   "metadata": {},
   "outputs": [
    {
     "name": "stdin",
     "output_type": "stream",
     "text": [
      "Ingrese el nombre del archivo:  v3alumnos2019\n"
     ]
    }
   ],
   "source": [
    "#!/usr/bin/env python\n",
    "# -*- coding: utf-8 -*-\n",
    "def add(line , fileName):\n",
    "\twith open(fileName + '.txt', \"a+\") as f:\n",
    "\t\tf.writelines(line)\n",
    "\n",
    "\n",
    "def main():\n",
    "\tline1 = \"\\nL74\t68 \t2\tUDP\t40\tH\t22,4600343\"\n",
    "\tline2 = \"\\nL68\t63 \t1\tALI\t37\tM\t22,3214285\"\n",
    "\tfileName = input(\"Ingrese el nombre del archivo: \")\n",
    "\tadd(line1, fileName)\n",
    "\tadd(line2, fileName)\n",
    "\n",
    "\n",
    "if __name__ == \"__main__\":\n",
    "\tmain()"
   ]
  }
 ],
 "metadata": {
  "kernelspec": {
   "display_name": "Python 3",
   "language": "python",
   "name": "python3"
  },
  "language_info": {
   "codemirror_mode": {
    "name": "ipython",
    "version": 3
   },
   "file_extension": ".py",
   "mimetype": "text/x-python",
   "name": "python",
   "nbconvert_exporter": "python",
   "pygments_lexer": "ipython3",
   "version": "3.7.4"
  }
 },
 "nbformat": 4,
 "nbformat_minor": 4
}
