{
 "cells": [
  {
   "cell_type": "markdown",
   "metadata": {},
   "source": [
    "# Tarea 4"
   ]
  },
  {
   "cell_type": "markdown",
   "metadata": {},
   "source": [
    "1. Dado un texto (secuencia de palabras), en la que las palabras están separadas por un espacio. Imprimir"
   ]
  },
  {
   "cell_type": "markdown",
   "metadata": {},
   "source": [
    "a) La misma secuencia de palabras, pero en orden contrario."
   ]
  },
  {
   "cell_type": "code",
   "execution_count": 4,
   "metadata": {},
   "outputs": [
    {
     "name": "stdin",
     "output_type": "stream",
     "text": [
      "Por favor ingrese un texto no vacío:  Lorem ipsum dolor sit amet consectetur adipiscing elit  sed do eiusmod tempor incididunt ut labore et dolore magna aliqua Dolor sed viverra ipsum nunc aliquet bibendum enim\n"
     ]
    },
    {
     "name": "stdout",
     "output_type": "stream",
     "text": [
      "En orden contrario: enim bibendum aliquet nunc ipsum viverra sed Dolor aliqua magna dolore et labore ut incididunt tempor eiusmod do sed elit adipiscing consectetur amet sit dolor ipsum Lorem.\n"
     ]
    }
   ],
   "source": [
    "phrase = input(\"Por favor ingrese un texto no vacío: \")\n",
    "\n",
    "list_phrase = phrase.split()\n",
    "list_phrase.reverse()\n",
    "print(f\"En orden contrario: {' '.join(list_phrase)}.\")"
   ]
  },
  {
   "cell_type": "markdown",
   "metadata": {},
   "source": [
    "b) Aquellas palabras, que sean mayores que la anterior y menores que la posterior alfabéticamente."
   ]
  },
  {
   "cell_type": "code",
   "execution_count": 9,
   "metadata": {},
   "outputs": [
    {
     "name": "stdin",
     "output_type": "stream",
     "text": [
      "Por favor ingrese un texto no vacío:  Lorem ipsum dolor sit amet consectetur adipiscing elit  sed do eiusmod tempor incididunt ut labore et dolore magna aliqua Dolor sed viverra ipsum nunc aliquet bibendum enim\n"
     ]
    },
    {
     "name": "stdout",
     "output_type": "stream",
     "text": [
      "Se imprime las palabras que sean mayores que la anteriory menos que la posterior alfabéticamente:\n",
      "elit\n",
      "eiusmod\n",
      "sed\n",
      "bibendum\n"
     ]
    }
   ],
   "source": [
    "phrase = input(\"Por favor ingrese un texto no vacío: \")\n",
    "\n",
    "list_phrase = phrase.split()\n",
    "\n",
    "print(\"Se imprime las palabras que sean mayores que la anterior\\\n",
    "y menos que la posterior alfabéticamente:\")\n",
    "for i in range(len(list_phrase)-2):\n",
    "    if list_phrase[i] < list_phrase[i+1] < list_phrase[i+2]:\n",
    "        print(list_phrase[i+1])"
   ]
  },
  {
   "cell_type": "markdown",
   "metadata": {},
   "source": [
    "c) La misma secuencia de palabras, pero eliminando las palabras que se repiten."
   ]
  },
  {
   "cell_type": "code",
   "execution_count": 11,
   "metadata": {},
   "outputs": [
    {
     "name": "stdin",
     "output_type": "stream",
     "text": [
      "Por favor ingrese un texto no vacío:  Lorem ipsum dolor sit amet consectetur adipiscing elit  sed do eiusmod tempor incididunt ut labore et dolore magna aliqua Dolor sed viverra ipsum nunc aliquet bibendum enim\n"
     ]
    },
    {
     "name": "stdout",
     "output_type": "stream",
     "text": [
      "Se van a eliminar las palabras repetidas incluidas ellas mismas:\n",
      "Lorem dolor sit amet consectetur adipiscing elit do eiusmod tempor incididunt ut labore et dolore magna aliqua Dolor viverra nunc aliquet bibendum enim\n"
     ]
    }
   ],
   "source": [
    "phrase = input(\"Por favor ingrese un texto no vacío: \")\n",
    "\n",
    "list_phrase = phrase.split()\n",
    "\n",
    "print(\"Se van a eliminar las palabras repetidas incluidas ellas mismas:\")\n",
    "\n",
    "without_repetitions = [item for item in list_phrase if list_phrase.count(item) == 1]\n",
    "print(' '.join(without_repetitions))"
   ]
  },
  {
   "cell_type": "markdown",
   "metadata": {},
   "source": [
    "d) Todas las palabras que se encuentran en la secuencia solo una vez."
   ]
  },
  {
   "cell_type": "code",
   "execution_count": 13,
   "metadata": {},
   "outputs": [
    {
     "name": "stdin",
     "output_type": "stream",
     "text": [
      "Por favor ingrese un texto no vacío:  Lorem ipsum dolor sit amet consectetur adipiscing elit  sed do eiusmod tempor incididunt ut labore et dolore magna aliqua Dolor sed viverra ipsum nunc aliquet bibendum enim\n"
     ]
    },
    {
     "name": "stdout",
     "output_type": "stream",
     "text": [
      "Se van a imprimir las palabras con una ocurrencia.\n",
      "Lorem ipsum dolor sit amet consectetur adipiscing elit sed do eiusmod tempor incididunt ut labore et dolore magna aliqua Dolor sed viverra ipsum nunc aliquet bibendum enim\n"
     ]
    }
   ],
   "source": [
    "phrase = input(\"Por favor ingrese un texto no vacío: \")\n",
    "non_duplicates = []\n",
    "\n",
    "print(\"Se van a imprimir las palabras con una ocurrencia.\")\n",
    "\n",
    "for item in phrase.split():\n",
    "    if item not in set():\n",
    "        set().add(item)\n",
    "        non_duplicates.append(item)\n",
    "\n",
    "print(' '.join(non_duplicates))"
   ]
  },
  {
   "cell_type": "markdown",
   "metadata": {},
   "source": [
    "e) Una secuencia conformada por las últimas letras de cada palabra del texto inicial."
   ]
  },
  {
   "cell_type": "code",
   "execution_count": 16,
   "metadata": {},
   "outputs": [
    {
     "name": "stdin",
     "output_type": "stream",
     "text": [
      "Por favor ingrese un texto no vacío:  Lorem ipsum dolor sit amet consectetur adipiscing elit  sed do eiusmod tempor incididunt ut labore et dolore magna aliqua Dolor sed viverra ipsum nunc aliquet bibendum enim\n"
     ]
    },
    {
     "name": "stdout",
     "output_type": "stream",
     "text": [
      "Se va a imprimir las últimas cuatro letras de cada palabra:\n",
      "orem psum olor sit amet etur cing elit sed do smod mpor dunt ut bore et lore agna iqua olor sed erra psum nunc quet ndum enim\n"
     ]
    }
   ],
   "source": [
    "phrase = input(\"Por favor ingrese un texto no vacío: \")\n",
    "list_phrase = phrase.split()\n",
    "last_four = [None]*len(list_phrase)\n",
    "\n",
    "print(\"Se va a imprimir las últimas cuatro letras de cada palabra:\")\n",
    "\n",
    "for i in range(len(list_phrase)):\n",
    "    last_four[i] = list_phrase[i][-4:]\n",
    "\n",
    "print(' '.join(last_four))"
   ]
  },
  {
   "cell_type": "markdown",
   "metadata": {},
   "source": [
    "f) Si la palabra es de longitud impar, eliminar la letra del centro."
   ]
  },
  {
   "cell_type": "code",
   "execution_count": 18,
   "metadata": {},
   "outputs": [
    {
     "name": "stdin",
     "output_type": "stream",
     "text": [
      "Por favor ingrese un texto no vacío:  Lorem ipsum dolor sit amet consectetur adipiscing elit  sed do eiusmod tempor incididunt ut labore et dolore magna aliqua Dolor sed viverra ipsum nunc aliquet bibendum enim\n"
     ]
    },
    {
     "name": "stdout",
     "output_type": "stream",
     "text": [
      "Se va a remover la letra central si tiene tamaño impar:\n",
      "Loem ipum door st amet consetetur adipiscing elit sd do eiumod tempor incididunt ut labore et dolore mana aliqua Door sd vivrra ipum nunc aliuet bibendum enim\n"
     ]
    }
   ],
   "source": [
    "phrase = input(\"Por favor ingrese un texto no vacío: \")\n",
    "list_phrase = phrase.split()\n",
    "\n",
    "print(\"Se va a remover la letra central si tiene tamaño impar:\")\n",
    "\n",
    "for i in range(len(list_phrase)):\n",
    "\tif len(list_phrase[i]) % 2 == 1:\n",
    "\t\tlist_phrase[i] = list_phrase[i][:len(list_phrase[i])//2] + list_phrase[i][len(list_phrase[i])//2+1:]\n",
    "\n",
    "print(' '.join(list_phrase))"
   ]
  },
  {
   "cell_type": "markdown",
   "metadata": {},
   "source": [
    "2. Escriba un programa que ordene las palabras de una frase en orden descendente de acuerdo al tamaño de las mismas. Imprima cada palabra\n",
    "con su respectiva longitud."
   ]
  },
  {
   "cell_type": "markdown",
   "metadata": {},
   "source": [
    "a) Una vez ingresado el texto, genera una lista de tuplas, cada tupla es de dos ítems, tamaño de la palabra y la palabra misma."
   ]
  },
  {
   "cell_type": "code",
   "execution_count": 19,
   "metadata": {},
   "outputs": [
    {
     "name": "stdin",
     "output_type": "stream",
     "text": [
      "Por favor ingrese un texto no vacío:  Lorem ipsum dolor sit amet consectetur adipiscing elit  sed do eiusmod tempor incididunt ut labore et dolore magna aliqua Dolor sed viverra ipsum nunc aliquet bibendum enim\n"
     ]
    }
   ],
   "source": [
    "phrase = input(\"Por favor ingrese un texto no vacío: \")\n",
    "list_phrase = phrase.split()\n",
    "length = [ len(list_phrase[i]) for i in range(len(list_phrase)) ]"
   ]
  },
  {
   "cell_type": "markdown",
   "metadata": {},
   "source": [
    "b) Imprima la lista de tuplas."
   ]
  },
  {
   "cell_type": "code",
   "execution_count": 20,
   "metadata": {},
   "outputs": [
    {
     "name": "stdin",
     "output_type": "stream",
     "text": [
      "Por favor ingrese un texto no vacío:  Lorem ipsum dolor sit amet consectetur adipiscing elit  sed do eiusmod tempor incididunt ut labore et dolore magna aliqua Dolor sed viverra ipsum nunc aliquet bibendum enim\n"
     ]
    },
    {
     "name": "stdout",
     "output_type": "stream",
     "text": [
      "[(5, 'Lorem'), (5, 'ipsum'), (5, 'dolor'), (3, 'sit'), (4, 'amet'), (11, 'consectetur'), (10, 'adipiscing'), (4, 'elit'), (3, 'sed'), (2, 'do'), (7, 'eiusmod'), (6, 'tempor'), (10, 'incididunt'), (2, 'ut'), (6, 'labore'), (2, 'et'), (6, 'dolore'), (5, 'magna'), (6, 'aliqua'), (5, 'Dolor'), (3, 'sed'), (7, 'viverra'), (5, 'ipsum'), (4, 'nunc'), (7, 'aliquet'), (8, 'bibendum'), (4, 'enim')]\n"
     ]
    }
   ],
   "source": [
    "phrase = input(\"Por favor ingrese un texto no vacío: \")\n",
    "list_phrase = phrase.split()\n",
    "length = [ len(list_phrase[i]) for i in range(len(list_phrase)) ]\n",
    "list(zip(length, list_phrase)).sort()\n",
    "print(list(zip(length, list_phrase)))"
   ]
  },
  {
   "cell_type": "markdown",
   "metadata": {},
   "source": [
    "c) Ordene la lista de tuplas en orden descendente de acuerod al tamaño de las palabras."
   ]
  },
  {
   "cell_type": "code",
   "execution_count": 21,
   "metadata": {},
   "outputs": [
    {
     "name": "stdin",
     "output_type": "stream",
     "text": [
      "Por favor ingrese un texto no vacío:  Lorem ipsum dolor sit amet consectetur adipiscing elit  sed do eiusmod tempor incididunt ut labore et dolore magna aliqua Dolor sed viverra ipsum nunc aliquet bibendum enim\n"
     ]
    }
   ],
   "source": [
    "phrase = input(\"Por favor ingrese un texto no vacío: \")\n",
    "list_phrase = phrase.split()\n",
    "length = [ len(list_phrase[i]) for i in range(len(list_phrase)) ]\n",
    "list_of_tuples = list(zip(length, list_phrase))\n",
    "list_of_tuples.sort()"
   ]
  },
  {
   "cell_type": "markdown",
   "metadata": {},
   "source": [
    "d) Imprima la lista ordenada."
   ]
  },
  {
   "cell_type": "code",
   "execution_count": 22,
   "metadata": {},
   "outputs": [
    {
     "name": "stdin",
     "output_type": "stream",
     "text": [
      "Por favor ingrese un texto no vacío:  Lorem ipsum dolor sit amet consectetur adipiscing elit  sed do eiusmod tempor incididunt ut labore et dolore magna aliqua Dolor sed viverra ipsum nunc aliquet bibendum enim\n"
     ]
    },
    {
     "name": "stdout",
     "output_type": "stream",
     "text": [
      "[(2, 'do'), (2, 'et'), (2, 'ut'), (3, 'sed'), (3, 'sed'), (3, 'sit'), (4, 'amet'), (4, 'elit'), (4, 'enim'), (4, 'nunc'), (5, 'Dolor'), (5, 'Lorem'), (5, 'dolor'), (5, 'ipsum'), (5, 'ipsum'), (5, 'magna'), (6, 'aliqua'), (6, 'dolore'), (6, 'labore'), (6, 'tempor'), (7, 'aliquet'), (7, 'eiusmod'), (7, 'viverra'), (8, 'bibendum'), (10, 'adipiscing'), (10, 'incididunt'), (11, 'consectetur')]\n"
     ]
    }
   ],
   "source": [
    "phrase = input(\"Por favor ingrese un texto no vacío: \")\n",
    "list_phrase = phrase.split()\n",
    "length = [ len(list_phrase[i]) for i in range(len(list_phrase)) ]\n",
    "list_of_tuples = list(zip(length, list_phrase))\n",
    "list_of_tuples.sort()\n",
    "print(list_of_tuples)"
   ]
  },
  {
   "cell_type": "markdown",
   "metadata": {},
   "source": [
    "e) Imprima cada ítem de la lista de la siguiente manera:"
   ]
  },
  {
   "cell_type": "code",
   "execution_count": 23,
   "metadata": {},
   "outputs": [
    {
     "name": "stdin",
     "output_type": "stream",
     "text": [
      "Por favor ingrese un texto no vacío:  Lorem ipsum dolor sit amet consectetur adipiscing elit  sed do eiusmod tempor incididunt ut labore et dolore magna aliqua Dolor sed viverra ipsum nunc aliquet bibendum enim\n"
     ]
    },
    {
     "name": "stdout",
     "output_type": "stream",
     "text": [
      "La palabra \"Lorem\" tiene 5 caracteres.\n",
      "La palabra \"ipsum\" tiene 5 caracteres.\n",
      "La palabra \"dolor\" tiene 5 caracteres.\n",
      "La palabra \"sit\" tiene 3 caracteres.\n",
      "La palabra \"amet\" tiene 4 caracteres.\n",
      "La palabra \"consectetur\" tiene 11 caracteres.\n",
      "La palabra \"adipiscing\" tiene 10 caracteres.\n",
      "La palabra \"elit\" tiene 4 caracteres.\n",
      "La palabra \"sed\" tiene 3 caracteres.\n",
      "La palabra \"do\" tiene 2 caracteres.\n",
      "La palabra \"eiusmod\" tiene 7 caracteres.\n",
      "La palabra \"tempor\" tiene 6 caracteres.\n",
      "La palabra \"incididunt\" tiene 10 caracteres.\n",
      "La palabra \"ut\" tiene 2 caracteres.\n",
      "La palabra \"labore\" tiene 6 caracteres.\n",
      "La palabra \"et\" tiene 2 caracteres.\n",
      "La palabra \"dolore\" tiene 6 caracteres.\n",
      "La palabra \"magna\" tiene 5 caracteres.\n",
      "La palabra \"aliqua\" tiene 6 caracteres.\n",
      "La palabra \"Dolor\" tiene 5 caracteres.\n",
      "La palabra \"sed\" tiene 3 caracteres.\n",
      "La palabra \"viverra\" tiene 7 caracteres.\n",
      "La palabra \"ipsum\" tiene 5 caracteres.\n",
      "La palabra \"nunc\" tiene 4 caracteres.\n",
      "La palabra \"aliquet\" tiene 7 caracteres.\n",
      "La palabra \"bibendum\" tiene 8 caracteres.\n",
      "La palabra \"enim\" tiene 4 caracteres.\n"
     ]
    }
   ],
   "source": [
    "phrase = input(\"Por favor ingrese un texto no vacío: \")\n",
    "list_phrase = phrase.split()\n",
    "length = [ len(list_phrase[i]) for i in range(len(list_phrase)) ]\n",
    "for word, number in zip(list_phrase, length):\n",
    "    print(f'La palabra \"{word}\" tiene {number} caracteres.')"
   ]
  }
 ],
 "metadata": {
  "kernelspec": {
   "display_name": "Python 3",
   "language": "python",
   "name": "python3"
  },
  "language_info": {
   "codemirror_mode": {
    "name": "ipython",
    "version": 3
   },
   "file_extension": ".py",
   "mimetype": "text/x-python",
   "name": "python",
   "nbconvert_exporter": "python",
   "pygments_lexer": "ipython3",
   "version": "3.7.4"
  }
 },
 "nbformat": 4,
 "nbformat_minor": 4
}
