{
 "cells": [
  {
   "cell_type": "markdown",
   "metadata": {},
   "source": [
    "1. La siguiente tabla muestra los vuelos diarios de una ciudad a otra:\n",
    "| Hora de salida | Hora de llegada |\n",
    "|----------------|-----------------|\n",
    "| 08:00 a.m.     | 10:16 a.m.      |\n",
    "| 09:43 a.m.     | 11:52 a.m.      |\n",
    "| 11:19 a.m.     | 01:31 p.m.      |\n",
    "| 12:47 p.m.     | 03:19 p.m.      |\n",
    "| 02:00 p.m.     | 04:08 p.m.      |\n",
    "| 03:45 p.m.     | 05:55 p.m.      |\n",
    "| 07:00 p.m.     | 09:20 p.m.      |\n",
    "| 09:45 p.m.     | 11:58 p.m.      |\n",
    "\n",
    "Escriba un programa que pida al usuario ingresar una hora (expresada en horas y minutos, usando un reloj de 24 horas). El programa luego muestra las horas de salida y llegada para el vuelo cuyo tiempo de partido es más cercano al ingresado por el usuario:\n",
    "\n",
    "> Ingrese la hora en formato de 24 horas: 13:15\n",
    "> Tiempo de partida más cercano es 12:47 p.m., llegada a las 3:19 p.m."
   ]
  },
  {
   "cell_type": "code",
   "execution_count": 66,
   "metadata": {},
   "outputs": [
    {
     "name": "stdin",
     "output_type": "stream",
     "text": [
      "Ingrese la hora:  10\n",
      "Ingrese los minutos 20\n"
     ]
    },
    {
     "name": "stdout",
     "output_type": "stream",
     "text": [
      "Tiempo de partida más caercano es .\n"
     ]
    }
   ],
   "source": [
    "from datetime import time as tm\n",
    "\n",
    "hora_salida = [tm(9, 43), tm(11,19), tm(12, 47), tm(14,0), tm(15, 45), tm(19, 0), tm(21, 45)]\n",
    "hora_llegada = [tm(11,52), tm(13,31), tm(15, 19), tm(16, 8), tm(17, 55), tm(21, 20), tm(23, 58)]\n",
    "s, l = \"Tiempo de partida más caercano es \", \"llegada a las s\"\n",
    "horario = {s: hora_salida, l: hora_llegada}\n",
    "\n",
    "hora_usuario = tm(\n",
    "    int(input(\"Ingrese la hora: \")),\n",
    "    int(input(\"Ingrese los minutos\"))\n",
    "    )\n",
    "\n",
    "print(f\"{s} {l}.\")"
   ]
  },
  {
   "cell_type": "markdown",
   "metadata": {},
   "source": [
    "2. El dueño de una empresa desea planificar las decisiones financieras que tomará en el siguiente año.\n",
    "La manera de planificarlas depende de lo siguiente:\n",
    "\n",
    "> Si actualmente su capital se encuentra con saldo negativo, pedir un préstamo bancario para que su nuevo saldo sea de $\\$10000$.\n",
    ">\n",
    "> Si su capital tiene actualmente un saldo positivo, entonces pedirá un préstamo bancario para tener un nuevo saldo de $\\$20000$, pero si su capital tiene actualmente un saldo superior a los $\\$20000$ no pedirá ningún préstamo.\n",
    "\n",
    "Posteriormente repartirá su presupuesto de la siguiente manera:\n",
    "\n",
    "> $\\$5000$ para equipo de cómputo.\n",
    "> $\\$2000$ para mobiliario.\n",
    "> y el resto, la mitad será para la compraa de insumos e incentivos al personal.\n",
    "\n",
    "Mostrar qué cantidades se destinarán para la compra de insumos e incentivos al personal y en caso de que fuera necesario, qué cantidad se debería solicitar al banco."
   ]
  },
  {
   "cell_type": "code",
   "execution_count": 37,
   "metadata": {},
   "outputs": [
    {
     "name": "stdin",
     "output_type": "stream",
     "text": [
      "Ingrese el capital: 10000000\n"
     ]
    },
    {
     "name": "stdout",
     "output_type": "stream",
     "text": [
      "Se destinará 4996500 USD para la compra de insumos y 4996500 USD para los incentivos del personal.\n"
     ]
    }
   ],
   "source": [
    "from money import Money\n",
    "\n",
    "factory = Money(amount='0', currency='USD')\n",
    "factory = Money(eval(input(\"Ingrese el capital:\")), 'USD')\n",
    "computo = Money(5000, 'USD')\n",
    "mobiliario = Money(2000, 'USD')\n",
    "\n",
    "if factory.amount < 0: factory = Money(10000, 'USD')\n",
    "elif factory.amount <= 20000: factory = Money(20000, 'USD')\n",
    "\n",
    "resto = factory - (computo + mobiliario)\n",
    "insumos = incentivos = Money(amount=resto.amount/2, currency='USD')\n",
    "print(f\"Se destinará {insumos.amount} {insumos.currency} para la compra de insumos y {incentivos.amount} {incentivos.currency} para los incentivos del personal.\")"
   ]
  },
  {
   "cell_type": "markdown",
   "metadata": {},
   "source": [
    "3. Diseña un programa que, dados cinco puntos en el plano cartesiano con sus coordenadas $(X, Y)$, determine cuál de los cuatro últimos puntos es el más cercano primero."
   ]
  },
  {
   "cell_type": "code",
   "execution_count": null,
   "metadata": {},
   "outputs": [],
   "source": []
  }
 ],
 "metadata": {
  "kernelspec": {
   "display_name": "Python 3",
   "language": "python",
   "name": "python3"
  },
  "language_info": {
   "codemirror_mode": {
    "name": "ipython",
    "version": 3
   },
   "file_extension": ".py",
   "mimetype": "text/x-python",
   "name": "python",
   "nbconvert_exporter": "python",
   "pygments_lexer": "ipython3",
   "version": "3.7.3"
  }
 },
 "nbformat": 4,
 "nbformat_minor": 4
}
