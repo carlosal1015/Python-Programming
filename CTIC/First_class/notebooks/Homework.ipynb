{
 "cells": [
  {
   "cell_type": "markdown",
   "metadata": {},
   "source": [
    "# Tarea 1\n",
    "Nombre del estudiante: Oromion.\n",
    "\n",
    "[Enlace](https://github.com/carlosal1015/Python-Programming/blob/master/CTIC/First_class/homework/Tarea%201%20Programacion%20en%20Python%20CTIC-UNI.pdf) a la lista de preguntas."
   ]
  },
  {
   "cell_type": "markdown",
   "metadata": {},
   "source": [
    "1. La siguiente tabla muestra los vuelos diarios de una ciudad a otra:\n",
    "| Hora de salida | Hora de llegada |\n",
    "|----------------|-----------------|\n",
    "| 08:00 a.m.     | 10:16 a.m.      |\n",
    "| 09:43 a.m.     | 11:52 a.m.      |\n",
    "| 11:19 a.m.     | 01:31 p.m.      |\n",
    "| 12:47 p.m.     | 03:19 p.m.      |\n",
    "| 02:00 p.m.     | 04:08 p.m.      |\n",
    "| 03:45 p.m.     | 05:55 p.m.      |\n",
    "| 07:00 p.m.     | 09:20 p.m.      |\n",
    "| 09:45 p.m.     | 11:58 p.m.      |\n",
    "\n",
    "Escriba un programa que pida al usuario ingresar una hora (expresada en horas y minutos, usando un reloj de 24 horas). El programa luego muestra las horas de salida y llegada para el vuelo cuyo tiempo de partido es más cercano al ingresado por el usuario:\n",
    "\n",
    "> Ingrese la hora en formato de 24 horas: 13:15\n",
    "> Tiempo de partida más cercano es 12:47 p.m., llegada a las 3:19 p.m."
   ]
  },
  {
   "cell_type": "code",
   "execution_count": 66,
   "metadata": {},
   "outputs": [
    {
     "name": "stdin",
     "output_type": "stream",
     "text": [
      "Ingrese la hora:  10\n",
      "Ingrese los minutos 20\n"
     ]
    },
    {
     "name": "stdout",
     "output_type": "stream",
     "text": [
      "Tiempo de partida más caercano es .\n"
     ]
    }
   ],
   "source": [
    "from datetime import time as tm\n",
    "\n",
    "hora_salida = [tm(9, 43), tm(11,19), tm(12, 47), tm(14,0), tm(15, 45), tm(19, 0), tm(21, 45)]\n",
    "hora_llegada = [tm(11,52), tm(13,31), tm(15, 19), tm(16, 8), tm(17, 55), tm(21, 20), tm(23, 58)]\n",
    "s, l = \"Tiempo de partida más caercano es \", \"llegada a las s\"\n",
    "horario = {s: hora_salida, l: hora_llegada}\n",
    "\n",
    "hora_usuario = tm(\n",
    "    int(input(\"Ingrese la hora: \")),\n",
    "    int(input(\"Ingrese los minutos\"))\n",
    "    )\n",
    "\n",
    "print(f\"{s} {l}.\")"
   ]
  },
  {
   "cell_type": "markdown",
   "metadata": {},
   "source": [
    "2. El dueño de una empresa desea planificar las decisiones financieras que tomará en el siguiente año.\n",
    "La manera de planificarlas depende de lo siguiente:\n",
    "\n",
    "> Si actualmente su capital se encuentra con saldo negativo, pedir un préstamo bancario para que su nuevo saldo sea de $\\$10000$.\n",
    ">\n",
    "> Si su capital tiene actualmente un saldo positivo, entonces pedirá un préstamo bancario para tener un nuevo saldo de $\\$20000$, pero si su capital tiene actualmente un saldo superior a los $\\$20000$ no pedirá ningún préstamo.\n",
    "\n",
    "Posteriormente repartirá su presupuesto de la siguiente manera:\n",
    "\n",
    "> $\\$5000$ para equipo de cómputo.\n",
    "> $\\$2000$ para mobiliario.\n",
    "> y el resto, la mitad será para la compraa de insumos e incentivos al personal.\n",
    "\n",
    "Mostrar qué cantidades se destinarán para la compra de insumos e incentivos al personal y en caso de que fuera necesario, qué cantidad se debería solicitar al banco."
   ]
  },
  {
   "cell_type": "code",
   "execution_count": 37,
   "metadata": {},
   "outputs": [
    {
     "name": "stdin",
     "output_type": "stream",
     "text": [
      "Ingrese el capital: 10000000\n"
     ]
    },
    {
     "name": "stdout",
     "output_type": "stream",
     "text": [
      "Se destinará 4996500 USD para la compra de insumos y 4996500 USD para los incentivos del personal.\n"
     ]
    }
   ],
   "source": [
    "from money import Money\n",
    "\n",
    "factory = Money(amount='0', currency='USD')\n",
    "factory = Money(eval(input(\"Ingrese el capital:\")), 'USD')\n",
    "computo = Money(5000, 'USD')\n",
    "mobiliario = Money(2000, 'USD')\n",
    "\n",
    "if factory.amount < 0: factory = Money(10000, 'USD')\n",
    "elif factory.amount <= 20000: factory = Money(20000, 'USD')\n",
    "\n",
    "resto = factory - (computo + mobiliario)\n",
    "insumos = incentivos = Money(amount=resto.amount/2, currency='USD')\n",
    "print(f\"Se destinará {insumos.amount} {insumos.currency} para la compra de insumos y {incentivos.amount} {incentivos.currency} para los incentivos del personal.\")"
   ]
  },
  {
   "cell_type": "markdown",
   "metadata": {},
   "source": [
    "3. Diseña un programa que, dados cinco puntos en el plano cartesiano con sus coordenadas $(X, Y)$, determine cuál de los cuatro últimos puntos es el más cercano primero."
   ]
  },
  {
   "cell_type": "code",
   "execution_count": 1,
   "metadata": {},
   "outputs": [
    {
     "name": "stdout",
     "output_type": "stream",
     "text": [
      "\t6.319038767440811 \t -2.180840177933504\n",
      "\t0.2759321155426118 \t 1.1762847216787613\n",
      "\t-4.258998725833578 \t -0.6310190570195394\n",
      "\t5.49222461140649 \t -1.1057536128665901\n",
      "\t3.295357851572762 \t -6.128615165045794\n",
      "[6.912989628070689, 10.690969213123278, 1.3562568971275766, 4.9726827397144575]\n",
      "2\n",
      "El punto N°3 es el más cercano al primer punto.\n"
     ]
    }
   ],
   "source": [
    "from math import sqrt, sin, cos, pi\n",
    "from random import random as rd\n",
    "\n",
    "RADIUS = 10\n",
    "x, y = [0, 0, 0, 0, 0], [0, 0, 0, 0, 0] # [0]*4 no funciona!\n",
    "# x, y son objetos diferentes para que genere valores aleatorios distintos!\n",
    "\n",
    "for i in range(5):\n",
    "\ttheta = 2*pi*rd() # \\theta \\in [0, 2\\pi).\n",
    "\tradius = RADIUS*rd() # r \\in \\in [0, 10).\n",
    "\tx[i], y[i] = radius*cos(theta), radius*sin(theta)\n",
    "\tprint(f\"\\t{x[i]} \\t {y[i]}\")\n",
    "\n",
    "distances = [sqrt((x[0] - x[i+1])**2 + (y[0] - y[i+1])**2) for i in range(4)]\n",
    "print(distances)\n",
    "\n",
    "index = distances.index(min(distances))\n",
    "print(index)\n",
    "print(f\"El punto N°{index+1} es el más cercano al primer punto.\")"
   ]
  }
 ],
 "metadata": {
  "kernelspec": {
   "display_name": "Python 3",
   "language": "python",
   "name": "python3"
  },
  "language_info": {
   "codemirror_mode": {
    "name": "ipython",
    "version": 3
   },
   "file_extension": ".py",
   "mimetype": "text/x-python",
   "name": "python",
   "nbconvert_exporter": "python",
   "pygments_lexer": "ipython3",
   "version": "3.7.4"
  }
 },
 "nbformat": 4,
 "nbformat_minor": 4
}
