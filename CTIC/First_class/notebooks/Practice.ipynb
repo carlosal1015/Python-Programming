{
 "cells": [
  {
   "cell_type": "code",
   "execution_count": 1,
   "metadata": {},
   "outputs": [
    {
     "name": "stdout",
     "output_type": "stream",
     "text": [
      "Welcome to Python\n",
      "Don't fear\n",
      "I'm hear\n"
     ]
    }
   ],
   "source": [
    "#Mi primer programa\n",
    "\n",
    "print(\"Welcome to Python\")\n",
    "\n",
    "print(\"Don't fear\")\n",
    "print(\"I'm hear\")"
   ]
  },
  {
   "cell_type": "code",
   "execution_count": 4,
   "metadata": {},
   "outputs": [
    {
     "name": "stdout",
     "output_type": "stream",
     "text": [
      "This is 2019-07-30 21:04:02.292928.\n"
     ]
    }
   ],
   "source": [
    "#coding: utf-8\n",
    "\n",
    "from datetime import datetime\n",
    "import sys\n",
    "\n",
    "# Este es un comentario.\n",
    "# Mi primer programa!\n",
    "\n",
    "def some_func():\n",
    "    current_time = datetime.now()\n",
    "    print(f\"This is {current_time}.\")\n",
    "    pass\n",
    "\n",
    "\n",
    "if __name__ == '__main__':\n",
    "    some_func()"
   ]
  },
  {
   "cell_type": "code",
   "execution_count": 5,
   "metadata": {},
   "outputs": [
    {
     "name": "stdout",
     "output_type": "stream",
     "text": [
      "Your assignment is to read \"Hamlet\" by tomorrow\n"
     ]
    }
   ],
   "source": [
    "# Ejercicio 10\n",
    "print('Your assignment is to read \"Hamlet\" by tomorrow')"
   ]
  },
  {
   "cell_type": "code",
   "execution_count": 6,
   "metadata": {},
   "outputs": [
    {
     "name": "stdout",
     "output_type": "stream",
     "text": [
      "<class 'int'>\n",
      "<class 'float'>\n",
      "<class 'complex'>\n",
      "<class 'complex'>\n",
      "<class 'str'>\n",
      "<class 'str'>\n",
      "<class 'bool'>\n"
     ]
    }
   ],
   "source": [
    "print(type(10))\n",
    "print(type(1.0))\n",
    "print(type(12j))\n",
    "print(type(12j+1))\n",
    "print(type(\"Hola\"))\n",
    "print(type('c'))\n",
    "print(type(True))"
   ]
  },
  {
   "cell_type": "code",
   "execution_count": 7,
   "metadata": {},
   "outputs": [
    {
     "name": "stdout",
     "output_type": "stream",
     "text": [
      "Parte a)\n",
      "-3\n",
      "Parte b)\n",
      "2\n",
      "Parte c)\n",
      "2\n",
      "Parte d)\n",
      "-3\n"
     ]
    }
   ],
   "source": [
    "# Pregunta 20\n",
    "\n",
    "# Se tiene el algoritmo de la division\n",
    "# D = d*c + R\n",
    "\n",
    "# a)\n",
    "print(\"Parte a)\")\n",
    "print(-13//5)\n",
    "\n",
    "# b)\n",
    "print(\"Parte b)\")\n",
    "print(-13 % 5)\n",
    "\n",
    "# c)\n",
    "print(\"Parte c)\")\n",
    "print(-13//-5)\n",
    "\n",
    "# d)\n",
    "print(\"Parte d)\")\n",
    "print(-13 % -5)"
   ]
  },
  {
   "cell_type": "code",
   "execution_count": 8,
   "metadata": {},
   "outputs": [
    {
     "name": "stdout",
     "output_type": "stream",
     "text": [
      "750000.0\n",
      "0.00025\n"
     ]
    }
   ],
   "source": [
    "print(75e+4)\n",
    "print(25e-5)"
   ]
  },
  {
   "cell_type": "code",
   "execution_count": 9,
   "metadata": {},
   "outputs": [
    {
     "name": "stdin",
     "output_type": "stream",
     "text": [
      "Ingresa tu nombre:  Carlos\n",
      "Ingresa tu edad 10\n"
     ]
    },
    {
     "name": "stdout",
     "output_type": "stream",
     "text": [
      "10\n",
      "15\n"
     ]
    }
   ],
   "source": [
    "nombre = input(\"Ingresa tu nombre: \")\n",
    "edad = input(\"Ingresa tu edad\")\n",
    "edad = int(edad)\n",
    "print(edad)\n",
    "print(edad + 5)"
   ]
  },
  {
   "cell_type": "code",
   "execution_count": 11,
   "metadata": {},
   "outputs": [
    {
     "name": "stdin",
     "output_type": "stream",
     "text": [
      "Ingrese su nombre:  Carlos\n",
      "Ingrese su edad:  10\n",
      "Ingrese su estatura:  1.80\n"
     ]
    },
    {
     "name": "stdout",
     "output_type": "stream",
     "text": [
      "Su nombre es:  Carlos\n",
      "Su edad en 5 anos es:  15\n",
      "Su estatura es:  1.8\n"
     ]
    }
   ],
   "source": [
    "# Funciones de conversion\n",
    "nombre = input(\"Ingrese su nombre: \")\n",
    "\n",
    "edad = input(\"Ingrese su edad: \")\n",
    "edad = int(edad)\n",
    "\n",
    "talla = input(\"Ingrese su estatura: \")\n",
    "talla = float(talla)\n",
    "\n",
    "print(\"Su nombre es: \", nombre)\n",
    "print(\"Su edad en 5 anos es: \", edad + 5)\n",
    "print(\"Su estatura es: \", talla)"
   ]
  },
  {
   "cell_type": "code",
   "execution_count": 12,
   "metadata": {},
   "outputs": [
    {
     "name": "stdin",
     "output_type": "stream",
     "text": [
      "Ingrese un numero:  178.00\n"
     ]
    },
    {
     "name": "stdout",
     "output_type": "stream",
     "text": [
      "178.0\n"
     ]
    }
   ],
   "source": [
    "number = float(input(\"Ingrese un numero: \"))\n",
    "print(number)"
   ]
  },
  {
   "cell_type": "code",
   "execution_count": 14,
   "metadata": {},
   "outputs": [
    {
     "name": "stdout",
     "output_type": "stream",
     "text": [
      "Aprobado\n"
     ]
    }
   ],
   "source": [
    "# uso de if\n",
    "x = 11\n",
    "\n",
    "if x > 10:\n",
    "    print(\"Aprobado\")\n",
    "    x = x + 2\n",
    "else:\n",
    "    print(\"Desaprobado\")"
   ]
  },
  {
   "cell_type": "code",
   "execution_count": 16,
   "metadata": {},
   "outputs": [
    {
     "name": "stdin",
     "output_type": "stream",
     "text": [
      "Ingrese el primer numero:  130.2\n",
      "Ingrese el segundo numero:  12\n"
     ]
    },
    {
     "name": "stdout",
     "output_type": "stream",
     "text": [
      "Las operaciones disponibles son:\n",
      "+ - * /.\n"
     ]
    },
    {
     "name": "stdin",
     "output_type": "stream",
     "text": [
      "Elija la operacion:  /\n"
     ]
    },
    {
     "name": "stdout",
     "output_type": "stream",
     "text": [
      "La respuesta es:  10.85\n"
     ]
    }
   ],
   "source": [
    "# Ejercicio 1\n",
    "\n",
    "num1 = eval(input(\"Ingrese el primer numero: \"))\n",
    "num2 = eval(input(\"Ingrese el segundo numero: \"))\n",
    "\n",
    "print(\"Las operaciones disponibles son:\")\n",
    "print(\"+ - * /.\")\n",
    "\n",
    "ope = input(\"Elija la operacion: \")\n",
    "\n",
    "if ope == '+':\n",
    "    res = num1 + num2\n",
    "    print(\"La respuesta es: \", res)\n",
    "elif ope == '-':\n",
    "    res = num1 - num2\n",
    "    print(\"La respuesta es:\", res)\n",
    "elif ope == '*':\n",
    "    res = num1*num2\n",
    "    print(\"La respuesta es: \", res)\n",
    "elif ope == '/':\n",
    "    res = num1/num2\n",
    "    print(\"La respuesta es: \", res)\n",
    "else:\n",
    "    print(\"Error\")"
   ]
  },
  {
   "cell_type": "code",
   "execution_count": null,
   "metadata": {},
   "outputs": [],
   "source": [
    "# Ejercicio 2\n",
    "from math import pi as pi\n",
    "\n",
    "print(\"\"\"\n",
    "Bienvenido al Tutor de Geometria!\\n\n",
    "Las figuras disponibles son:\\n\n",
    "a. Cuadrado\\n\n",
    "b. Triangulo\\n\n",
    "c. Circulo\\n\n",
    "\"\"\")\n",
    "\n",
    "option = input(\"Elija la figura para hallar su area: \")\n",
    "\n",
    "if option == 'a':\n",
    "    side = int(input(\"Ingrese el lado del cuadrado: \"))\n",
    "    print(f\"El area del cuadrado es: {side*side} metros cuadrados.\")\n",
    "elif option == 'b':\n",
    "    basis = float(input(\"Ingrese la base del triangulo: \"))\n",
    "    height = float(input(\"Ingrese la alura del triangulo: \"))\n",
    "    print(f\"El area del triangulo es: {basis*height*0.5} metros cuadrados.\")\n",
    "elif option == 'c':\n",
    "    radious = float(input(\"Ingrese el valor del radio del circulo: \"))\n",
    "    print(f\"El area del circulo es {pi*radious*radious} metros cuadrados.\")\n",
    "else:\n",
    "    print(\"\"\"\n",
    "    Error! Los valores deben de ser positivos.\\n\n",
    "    Lo sentimos, vuelva a ejecutar el programa.\n",
    "    \"\"\")"
   ]
  }
 ],
 "metadata": {
  "kernelspec": {
   "display_name": "Python 3",
   "language": "python",
   "name": "python3"
  },
  "language_info": {
   "codemirror_mode": {
    "name": "ipython",
    "version": 3
   },
   "file_extension": ".py",
   "mimetype": "text/x-python",
   "name": "python",
   "nbconvert_exporter": "python",
   "pygments_lexer": "ipython3",
   "version": "3.7.3"
  }
 },
 "nbformat": 4,
 "nbformat_minor": 4
}
